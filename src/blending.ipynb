{
 "cells": [
  {
   "cell_type": "code",
   "execution_count": 11,
   "metadata": {
    "collapsed": true
   },
   "outputs": [],
   "source": [
    "import os\n",
    "import numpy as np\n",
    "import pandas as pd"
   ]
  },
  {
   "cell_type": "code",
   "execution_count": 12,
   "metadata": {},
   "outputs": [
    {
     "name": "stdout",
     "output_type": "stream",
     "text": [
      "epoch11.csv\n",
      "epoch5.csv\n",
      "epoch6 2.csv\n",
      "epoch6.csv\n",
      "epoch7.csv\n",
      "epoch8 2.csv\n",
      "epoch8.csv\n",
      "gru_40k_epoch10.csv\n",
      "gru_cap_100k_preprocessed_12.csv\n",
      "gru_conv_100k_preprocessd_10.csv\n",
      "gru_conv_100k_preprocessed_6.csv\n",
      "lstm_conv_100k_preprocessed_10.csv\n",
      "lstm_conv_100k_preprocessed_6.csv\n"
     ]
    }
   ],
   "source": [
    "FILE_DIR = '../output/blend/candidates/'\n",
    "classes = ['toxic', 'severe_toxic', 'obscene', 'threat', 'insult', 'identity_hate']\n",
    "predict_list = []\n",
    "for file in os.listdir(FILE_DIR):\n",
    "    if not file.endswith(\".csv\"):\n",
    "        continue\n",
    "    print(file)\n",
    "    predict_list.append(pd.read_csv(FILE_DIR + file)[classes].values)"
   ]
  },
  {
   "cell_type": "code",
   "execution_count": 13,
   "metadata": {},
   "outputs": [],
   "source": [
    "y_blend = np.zeros_like(predict_list[0])\n",
    "for prediction in predict_list:\n",
    "    y_blend += prediction\n",
    "    \n",
    "y_blend /= len(predict_list)"
   ]
  },
  {
   "cell_type": "code",
   "execution_count": 14,
   "metadata": {},
   "outputs": [],
   "source": [
    "submission = pd.read_csv(\"../output/sample_submission.csv\")\n",
    "submission[classes] = y_blend\n",
    "submission.to_csv('../output/blend/uniform_blended2.csv', index=False)"
   ]
  },
  {
   "cell_type": "code",
   "execution_count": null,
   "metadata": {
    "collapsed": true
   },
   "outputs": [],
   "source": []
  }
 ],
 "metadata": {
  "kernelspec": {
   "display_name": "Python 3",
   "language": "python",
   "name": "python3"
  },
  "language_info": {
   "codemirror_mode": {
    "name": "ipython",
    "version": 3
   },
   "file_extension": ".py",
   "mimetype": "text/x-python",
   "name": "python",
   "nbconvert_exporter": "python",
   "pygments_lexer": "ipython3",
   "version": "3.6.1"
  }
 },
 "nbformat": 4,
 "nbformat_minor": 2
}
