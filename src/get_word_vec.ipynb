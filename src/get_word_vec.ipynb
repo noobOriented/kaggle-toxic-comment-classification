{
 "cells": [
  {
   "cell_type": "code",
   "execution_count": 1,
   "metadata": {},
   "outputs": [
    {
     "name": "stderr",
     "output_type": "stream",
     "text": [
      "Using TensorFlow backend.\n"
     ]
    }
   ],
   "source": [
    "import numpy as np\n",
    "import pandas as pd\n",
    "import fastText\n",
    "from sklearn.model_selection import train_test_split\n",
    "from keras.preprocessing.text import Tokenizer\n",
    "from keras.preprocessing.sequence import pad_sequences\n",
    "import seaborn as sns\n",
    "%matplotlib inline"
   ]
  },
  {
   "cell_type": "code",
   "execution_count": 2,
   "metadata": {
    "collapsed": true
   },
   "outputs": [],
   "source": [
    "model = fastText.load_model('../pretrained/fasttext/wiki.en/wiki.en.bin')"
   ]
  },
  {
   "cell_type": "code",
   "execution_count": 3,
   "metadata": {
    "collapsed": true
   },
   "outputs": [],
   "source": [
    "train = pd.read_csv('../data/train_preprocessed.csv')\n",
    "test = pd.read_csv('../data/test_preprocessed.csv')\n",
    "\n",
    "x_train_val = train['comment_text'].fillna('FillNaValue').values\n",
    "x_test = test['comment_text'].fillna('FillNaValue').values\n",
    "\n",
    "classes = ['toxic', 'severe_toxic', 'obscene', 'threat', 'insult', 'identity_hate']\n",
    "y_train_val = train[classes].values"
   ]
  },
  {
   "cell_type": "code",
   "execution_count": 4,
   "metadata": {
    "collapsed": true
   },
   "outputs": [],
   "source": [
    "MAX_FEATURES = 100000"
   ]
  },
  {
   "cell_type": "code",
   "execution_count": 5,
   "metadata": {
    "collapsed": true
   },
   "outputs": [],
   "source": [
    "tokenizer = Tokenizer(num_words=MAX_FEATURES)\n",
    "tokenizer.fit_on_texts(list(x_train_val) + list(x_test))"
   ]
  },
  {
   "cell_type": "code",
   "execution_count": 6,
   "metadata": {
    "collapsed": true
   },
   "outputs": [],
   "source": [
    "x_train_val = tokenizer.texts_to_sequences(x_train_val)\n",
    "x_test = tokenizer.texts_to_sequences(x_test)"
   ]
  },
  {
   "cell_type": "code",
   "execution_count": 7,
   "metadata": {},
   "outputs": [
    {
     "data": {
      "text/plain": [
       "[('motherjane', 2),\n",
       " ('wikiprecedent', 2),\n",
       " ('checkmeout', 2),\n",
       " ('wabc', 2),\n",
       " ('skell', 2),\n",
       " ('buttar', 2),\n",
       " ('asskickers', 2),\n",
       " ('mechatronics', 2),\n",
       " ('funnybunny', 2),\n",
       " ('oryzomys', 2),\n",
       " ('artickle', 2),\n",
       " ('coentr', 2),\n",
       " ('epoca', 2),\n",
       " ('chopa', 2),\n",
       " ('pece', 2),\n",
       " ('macauley', 2),\n",
       " ('liturgically', 2),\n",
       " ('mountaineer', 2),\n",
       " ('cencored', 2),\n",
       " ('nuclearvacuum', 2),\n",
       " ('reviewd', 2),\n",
       " ('loval', 2),\n",
       " ('arrogate', 2),\n",
       " ('espcecially', 2),\n",
       " ('rancor', 2),\n",
       " ('bksimonb', 2),\n",
       " ('reneeholle', 2),\n",
       " ('philosoph', 2),\n",
       " ('fvcking', 2),\n",
       " ('possiblility', 2)]"
      ]
     },
     "execution_count": 7,
     "metadata": {},
     "output_type": "execute_result"
    }
   ],
   "source": [
    "sorted(tokenizer.word_counts.items(),\n",
    "       reverse=True,\n",
    "       key=lambda x: x[1])[MAX_FEATURES - 30: MAX_FEATURES]"
   ]
  },
  {
   "cell_type": "code",
   "execution_count": 8,
   "metadata": {},
   "outputs": [
    {
     "name": "stdout",
     "output_type": "stream",
     "text": [
      "36.0\n",
      "76.0\n",
      "153.0\n",
      "232.0\n"
     ]
    },
    {
     "data": {
      "image/png": "[encoded data removed]",
      "text/plain": [
       "<matplotlib.figure.Figure at 0x12e1ad4e0>"
      ]
     },
     "metadata": {},
     "output_type": "display_data"
    }
   ],
   "source": [
    "g = sns.distplot(list(map(len, x_train_val)))\n",
    "\n",
    "print(np.percentile(list(map(len, x_train_val)), 50))\n",
    "print(np.percentile(list(map(len, x_train_val)), 75))\n",
    "print(np.percentile(list(map(len, x_train_val)), 90))\n",
    "print(np.percentile(list(map(len, x_train_val)), 95))"
   ]
  },
  {
   "cell_type": "code",
   "execution_count": 7,
   "metadata": {
    "collapsed": true
   },
   "outputs": [],
   "source": [
    "MAX_LENGTH = 150"
   ]
  },
  {
   "cell_type": "code",
   "execution_count": 8,
   "metadata": {
    "collapsed": true
   },
   "outputs": [],
   "source": [
    "x_train_val = pad_sequences(x_train_val, maxlen=MAX_LENGTH)\n",
    "x_test = pad_sequences(x_test, maxlen=MAX_LENGTH)"
   ]
  },
  {
   "cell_type": "code",
   "execution_count": 9,
   "metadata": {
    "collapsed": true
   },
   "outputs": [],
   "source": [
    "x_train, x_val, y_train, y_val = train_test_split(x_train_val, y_train_val,\n",
    "                                                  train_size=0.9, random_state=528)"
   ]
  },
  {
   "cell_type": "code",
   "execution_count": 10,
   "metadata": {
    "collapsed": true
   },
   "outputs": [],
   "source": [
    "np.save('../data/x_train_100k_L150.npy', x_train)\n",
    "np.save('../data/x_val_100k_L150.npy', x_val)\n",
    "np.save('../data/x_test_100k_L150.npy', x_test)\n",
    "np.save('../data/y_train.npy', y_train)\n",
    "np.save('../data/y_val.npy', y_val)"
   ]
  },
  {
   "cell_type": "code",
   "execution_count": 13,
   "metadata": {
    "collapsed": true
   },
   "outputs": [],
   "source": [
    "def pretrained_from_model(model, max_features, word_index):\n",
    "    '''\n",
    "    Arguments:\n",
    "    file_name --\n",
    "    max_features --\n",
    "    word2idx_map --\n",
    "    \n",
    "    Returns:\n",
    "    embedding_matrix -- numpy array\n",
    "    \n",
    "    '''\n",
    "    embed_dim = model.get_word_vector('apple').shape[0]\n",
    "    embed_matrix = np.zeros((max_features + 1, embed_dim))\n",
    "    num = 0\n",
    "    words = set(model.get_words())\n",
    "    \n",
    "    for word, idx in word_index.items():\n",
    "        if word in words:\n",
    "            num += 1\n",
    "        if idx > max_features:\n",
    "            break\n",
    "        v = model.get_word_vector(word)\n",
    "        embed_matrix[idx, :] = v\n",
    "    \n",
    "    print('Total vocabularies: %d, Load pretrained embedding for %d of them' %\n",
    "          (max_features, num))\n",
    "    \n",
    "    return embed_matrix"
   ]
  },
  {
   "cell_type": "code",
   "execution_count": 14,
   "metadata": {},
   "outputs": [
    {
     "name": "stdout",
     "output_type": "stream",
     "text": [
      "Total vocabularies: 100000, Load pretrained embedding for 94027 of them\n"
     ]
    }
   ],
   "source": [
    "embed_matrix = pretrained_from_model(model, MAX_FEATURES, tokenizer.word_index)"
   ]
  },
  {
   "cell_type": "code",
   "execution_count": 15,
   "metadata": {
    "collapsed": true
   },
   "outputs": [],
   "source": [
    "np.save('../pretrained/numpy_matrix/fastTest.300D.100kFeatures.npy', embed_matrix)"
   ]
  },
  {
   "cell_type": "code",
   "execution_count": 16,
   "metadata": {
    "collapsed": true
   },
   "outputs": [],
   "source": [
    "def pretrained_from_file(file, embed_dim, max_features, word_index):\n",
    "    '''\n",
    "    Arguments:\n",
    "    file_name --\n",
    "    max_features --\n",
    "    word2idx_map --\n",
    "    \n",
    "    Returns:\n",
    "    embedding_matrix -- numpy array\n",
    "    \n",
    "    '''\n",
    "    embed_dim = model.get_word_vector('apple').shape[0]\n",
    "    embed_matrix = np.zeros((max_features + 1, embed_dim))\n",
    "    num = 0\n",
    "    \n",
    "    for line in open(file):\n",
    "        line = line.strip().split(' ')\n",
    "        word = line[0]\n",
    "        idx = word_index.get(word)\n",
    "        if idx is None or idx > max_features:\n",
    "            continue\n",
    "        num += 1\n",
    "        embed_matrix[idx, :] = np.asarray(line[1:], dtype='float32')\n",
    "    \n",
    "    print('Total vocabularies: %d, Load pretrained embedding for %d of them' %\n",
    "          (max_features, num))\n",
    "    \n",
    "    return embed_matrix"
   ]
  },
  {
   "cell_type": "code",
   "execution_count": 17,
   "metadata": {},
   "outputs": [
    {
     "name": "stdout",
     "output_type": "stream",
     "text": [
      "Total vocabularies: 100000, Load pretrained embedding for 78350 of them\n"
     ]
    }
   ],
   "source": [
    "embed_matrix = pretrained_from_file('../pretrained/glove/glove.840B.300d.txt', 300, MAX_FEATURES, tokenizer.word_index)"
   ]
  },
  {
   "cell_type": "code",
   "execution_count": 18,
   "metadata": {
    "collapsed": true
   },
   "outputs": [],
   "source": [
    "np.save('../pretrained/numpy_matrix/glove.300D.100kFeatures.npy', embed_matrix)"
   ]
  },
  {
   "cell_type": "code",
   "execution_count": null,
   "metadata": {
    "collapsed": true
   },
   "outputs": [],
   "source": []
  }
 ],
 "metadata": {
  "kernelspec": {
   "display_name": "Python 3",
   "language": "python",
   "name": "python3"
  },
  "language_info": {
   "codemirror_mode": {
    "name": "ipython",
    "version": 3
   },
   "file_extension": ".py",
   "mimetype": "text/x-python",
   "name": "python",
   "nbconvert_exporter": "python",
   "pygments_lexer": "ipython3",
   "version": "3.6.1"
  }
 },
 "nbformat": 4,
 "nbformat_minor": 2
}
