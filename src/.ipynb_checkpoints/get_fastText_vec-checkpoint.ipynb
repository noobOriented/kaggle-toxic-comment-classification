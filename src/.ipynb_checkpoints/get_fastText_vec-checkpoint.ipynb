{
 "cells": [
  {
   "cell_type": "code",
   "execution_count": 1,
   "metadata": {},
   "outputs": [
    {
     "name": "stderr",
     "output_type": "stream",
     "text": [
      "Using TensorFlow backend.\n"
     ]
    }
   ],
   "source": [
    "import numpy as np\n",
    "import pandas as pd\n",
    "import fastText\n",
    "from sklearn.model_selection import train_test_split\n",
    "from keras.preprocessing.text import Tokenizer\n",
    "from keras.preprocessing.sequence import pad_sequences\n",
    "import seaborn as sns\n",
    "%matplotlib inline"
   ]
  },
  {
   "cell_type": "code",
   "execution_count": 2,
   "metadata": {
    "collapsed": true
   },
   "outputs": [],
   "source": [
    "model = fastText.load_model('../pretrained/fasttext/wiki.en/wiki.en.bin')"
   ]
  },
  {
   "cell_type": "code",
   "execution_count": 3,
   "metadata": {
    "collapsed": true
   },
   "outputs": [],
   "source": [
    "train = pd.read_csv('../data/train.csv')\n",
    "test = pd.read_csv('../data/test.csv')\n",
    "\n",
    "x_train_val = train['comment_text'].fillna('FillNaValue').values\n",
    "x_test = test['comment_text'].fillna('FillNaValue').values\n",
    "\n",
    "classes = ['toxic', 'severe_toxic', 'obscene', 'threat', 'insult', 'identity_hate']\n",
    "y_train_val = train[classes].values"
   ]
  },
  {
   "cell_type": "code",
   "execution_count": 4,
   "metadata": {
    "collapsed": true
   },
   "outputs": [],
   "source": [
    "MAX_FEATURES = 100000"
   ]
  },
  {
   "cell_type": "code",
   "execution_count": 5,
   "metadata": {
    "collapsed": true
   },
   "outputs": [],
   "source": [
    "tokenizer = Tokenizer(num_words=MAX_FEATURES)\n",
    "tokenizer.fit_on_texts(list(x_train_val) + list(x_test))"
   ]
  },
  {
   "cell_type": "code",
   "execution_count": 6,
   "metadata": {
    "collapsed": true
   },
   "outputs": [],
   "source": [
    "x_train_val = tokenizer.texts_to_sequences(x_train_val)\n",
    "x_test = tokenizer.texts_to_sequences(x_test)"
   ]
  },
  {
   "cell_type": "code",
   "execution_count": 7,
   "metadata": {},
   "outputs": [
    {
     "data": {
      "text/plain": [
       "[('تيم', 3),\n",
       " ('دبي', 3),\n",
       " ('i̇nci', 3),\n",
       " ('türkay', 3),\n",
       " ('mandrill', 3),\n",
       " ('0c', 3),\n",
       " ('hashshashin', 3),\n",
       " ('wouter', 3),\n",
       " ('cration', 3),\n",
       " ('stashed', 3),\n",
       " ('안', 3),\n",
       " ('unh', 3),\n",
       " ('landmasses', 3),\n",
       " ('rien', 3),\n",
       " ('fous', 3),\n",
       " ('unicon', 3),\n",
       " ('speleotrove', 3),\n",
       " ('homebirth', 3),\n",
       " ('yü', 3),\n",
       " ('crosstalk', 3),\n",
       " ('abiram', 3),\n",
       " (\"kahlo's\", 3),\n",
       " ('crowbar', 3),\n",
       " ('يتكلم', 3),\n",
       " ('جداً', 3),\n",
       " ('أكبر', 3),\n",
       " ('معظمهم', 3),\n",
       " ('الشارع', 3),\n",
       " ('حياتهم', 3),\n",
       " ('إنت', 3)]"
      ]
     },
     "execution_count": 7,
     "metadata": {},
     "output_type": "execute_result"
    }
   ],
   "source": [
    "sorted(tokenizer.word_counts.items(),\n",
    "       reverse=True,\n",
    "       key=lambda x: x[1])[MAX_FEATURES - 30: MAX_FEATURES]"
   ]
  },
  {
   "cell_type": "code",
   "execution_count": 8,
   "metadata": {},
   "outputs": [
    {
     "name": "stdout",
     "output_type": "stream",
     "text": [
      "36.0\n",
      "75.0\n",
      "152.0\n",
      "230.0\n"
     ]
    },
    {
     "data": {
      "image/png": "[encoded data removed]",
      "text/plain": [
       "<matplotlib.figure.Figure at 0x11018e9e8>"
      ]
     },
     "metadata": {},
     "output_type": "display_data"
    }
   ],
   "source": [
    "g = sns.distplot(list(map(len, x_train_val)))\n",
    "\n",
    "print(np.percentile(list(map(len, x_train_val)), 50))\n",
    "print(np.percentile(list(map(len, x_train_val)), 75))\n",
    "print(np.percentile(list(map(len, x_train_val)), 90))\n",
    "print(np.percentile(list(map(len, x_train_val)), 95))"
   ]
  },
  {
   "cell_type": "code",
   "execution_count": 9,
   "metadata": {
    "collapsed": true
   },
   "outputs": [],
   "source": [
    "MAX_LENGTH = 150"
   ]
  },
  {
   "cell_type": "code",
   "execution_count": 10,
   "metadata": {
    "collapsed": true
   },
   "outputs": [],
   "source": [
    "x_train_val = pad_sequences(x_train_val, maxlen=MAX_LENGTH)\n",
    "x_test = pad_sequences(x_test, maxlen=MAX_LENGTH)"
   ]
  },
  {
   "cell_type": "code",
   "execution_count": 11,
   "metadata": {
    "collapsed": true
   },
   "outputs": [],
   "source": [
    "x_train, x_val, y_train, y_val = train_test_split(x_train_val, y_train_val,\n",
    "                                                  train_size=0.95, random_state=528)"
   ]
  },
  {
   "cell_type": "code",
   "execution_count": 12,
   "metadata": {
    "collapsed": true
   },
   "outputs": [],
   "source": [
    "np.save('../data/x_train_100k_L150.npy', x_train)\n",
    "np.save('../data/x_val_100k_L150.npy', x_val)\n",
    "np.save('../data/x_test_100k_L150.npy', x_test)\n",
    "np.save('../data/y_train.npy', y_train)\n",
    "np.save('../data/y_val.npy', y_val)"
   ]
  },
  {
   "cell_type": "code",
   "execution_count": 13,
   "metadata": {
    "collapsed": true
   },
   "outputs": [],
   "source": [
    "def pretrained_embedding_matrix(model, max_features, word_index):\n",
    "    '''\n",
    "    Arguments:\n",
    "    file_name --\n",
    "    max_features --\n",
    "    word2idx_map --\n",
    "    \n",
    "    Returns:\n",
    "    embedding_matrix -- numpy array\n",
    "    \n",
    "    '''\n",
    "    embed_dim = model.get_word_vector('apple').shape[0]\n",
    "    embed_matrix = np.zeros((max_features + 1, embed_dim))\n",
    "    num = 0\n",
    "    words = set(model.get_words())\n",
    "    \n",
    "    for word, idx in word_index.items():\n",
    "        if word in words:\n",
    "            num += 1\n",
    "        if idx > max_features:\n",
    "            break\n",
    "        v = model.get_word_vector(word)\n",
    "        v /= np.linalg.norm(v)\n",
    "        embed_matrix[idx, :] = v\n",
    "    \n",
    "    print('Total vocabularies: %d, Load pretrained embedding for %d of them' %\n",
    "          (max_features, num))\n",
    "    \n",
    "    return embed_matrix"
   ]
  },
  {
   "cell_type": "code",
   "execution_count": 14,
   "metadata": {},
   "outputs": [
    {
     "name": "stdout",
     "output_type": "stream",
     "text": [
      "Total vocabularies: 100000, Load pretrained embedding for 83674 of them\n"
     ]
    }
   ],
   "source": [
    "embed_matrix = pretrained_embedding_matrix(model, MAX_FEATURES, tokenizer.word_index)"
   ]
  },
  {
   "cell_type": "code",
   "execution_count": 15,
   "metadata": {
    "collapsed": true
   },
   "outputs": [],
   "source": [
    "np.save('../pretrained/numpy_matrix/fastTest.300D.100kFeatures.npy', embed_matrix)"
   ]
  },
  {
   "cell_type": "code",
   "execution_count": null,
   "metadata": {
    "collapsed": true
   },
   "outputs": [],
   "source": []
  }
 ],
 "metadata": {
  "kernelspec": {
   "display_name": "Python 3",
   "language": "python",
   "name": "python3"
  },
  "language_info": {
   "codemirror_mode": {
    "name": "ipython",
    "version": 3
   },
   "file_extension": ".py",
   "mimetype": "text/x-python",
   "name": "python",
   "nbconvert_exporter": "python",
   "pygments_lexer": "ipython3",
   "version": "3.6.1"
  }
 },
 "nbformat": 4,
 "nbformat_minor": 2
}
